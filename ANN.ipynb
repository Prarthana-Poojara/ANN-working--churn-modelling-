{
 "cells": [
  {
   "cell_type": "code",
   "execution_count": 2,
   "metadata": {},
   "outputs": [],
   "source": [
    "import pandas as pd \n",
    "import numpy as np \n",
    "import matplotlib.pyplot as plt "
   ]
  },
  {
   "cell_type": "code",
   "execution_count": 3,
   "metadata": {},
   "outputs": [],
   "source": [
    "read_file=pd.read_csv(r'Churn_Modelling.txt')\n",
    "read_file.to_csv(r'churn_modelling.csv',index=None)"
   ]
  },
  {
   "cell_type": "code",
   "execution_count": 4,
   "metadata": {},
   "outputs": [],
   "source": [
    "# importing the dataset \n",
    "data=pd.read_csv(\"churn_modelling.csv\")\n",
    "x = data.iloc[:, 3:13]\n",
    "y = data.iloc[:, 13]\n"
   ]
  },
  {
   "cell_type": "code",
   "execution_count": 5,
   "metadata": {},
   "outputs": [
    {
     "data": {
      "text/html": [
       "<div>\n",
       "<style scoped>\n",
       "    .dataframe tbody tr th:only-of-type {\n",
       "        vertical-align: middle;\n",
       "    }\n",
       "\n",
       "    .dataframe tbody tr th {\n",
       "        vertical-align: top;\n",
       "    }\n",
       "\n",
       "    .dataframe thead th {\n",
       "        text-align: right;\n",
       "    }\n",
       "</style>\n",
       "<table border=\"1\" class=\"dataframe\">\n",
       "  <thead>\n",
       "    <tr style=\"text-align: right;\">\n",
       "      <th></th>\n",
       "      <th>CreditScore</th>\n",
       "      <th>Geography</th>\n",
       "      <th>Gender</th>\n",
       "      <th>Age</th>\n",
       "      <th>Tenure</th>\n",
       "      <th>Balance</th>\n",
       "      <th>NumOfProducts</th>\n",
       "      <th>HasCrCard</th>\n",
       "      <th>IsActiveMember</th>\n",
       "      <th>EstimatedSalary</th>\n",
       "    </tr>\n",
       "  </thead>\n",
       "  <tbody>\n",
       "    <tr>\n",
       "      <th>0</th>\n",
       "      <td>619</td>\n",
       "      <td>France</td>\n",
       "      <td>Female</td>\n",
       "      <td>42</td>\n",
       "      <td>2</td>\n",
       "      <td>0.00</td>\n",
       "      <td>1</td>\n",
       "      <td>1</td>\n",
       "      <td>1</td>\n",
       "      <td>101348.88</td>\n",
       "    </tr>\n",
       "    <tr>\n",
       "      <th>1</th>\n",
       "      <td>608</td>\n",
       "      <td>Spain</td>\n",
       "      <td>Female</td>\n",
       "      <td>41</td>\n",
       "      <td>1</td>\n",
       "      <td>83807.86</td>\n",
       "      <td>1</td>\n",
       "      <td>0</td>\n",
       "      <td>1</td>\n",
       "      <td>112542.58</td>\n",
       "    </tr>\n",
       "    <tr>\n",
       "      <th>2</th>\n",
       "      <td>502</td>\n",
       "      <td>France</td>\n",
       "      <td>Female</td>\n",
       "      <td>42</td>\n",
       "      <td>8</td>\n",
       "      <td>159660.80</td>\n",
       "      <td>3</td>\n",
       "      <td>1</td>\n",
       "      <td>0</td>\n",
       "      <td>113931.57</td>\n",
       "    </tr>\n",
       "    <tr>\n",
       "      <th>3</th>\n",
       "      <td>699</td>\n",
       "      <td>France</td>\n",
       "      <td>Female</td>\n",
       "      <td>39</td>\n",
       "      <td>1</td>\n",
       "      <td>0.00</td>\n",
       "      <td>2</td>\n",
       "      <td>0</td>\n",
       "      <td>0</td>\n",
       "      <td>93826.63</td>\n",
       "    </tr>\n",
       "    <tr>\n",
       "      <th>4</th>\n",
       "      <td>850</td>\n",
       "      <td>Spain</td>\n",
       "      <td>Female</td>\n",
       "      <td>43</td>\n",
       "      <td>2</td>\n",
       "      <td>125510.82</td>\n",
       "      <td>1</td>\n",
       "      <td>1</td>\n",
       "      <td>1</td>\n",
       "      <td>79084.10</td>\n",
       "    </tr>\n",
       "  </tbody>\n",
       "</table>\n",
       "</div>"
      ],
      "text/plain": [
       "   CreditScore Geography  Gender  Age  Tenure    Balance  NumOfProducts  \\\n",
       "0          619    France  Female   42       2       0.00              1   \n",
       "1          608     Spain  Female   41       1   83807.86              1   \n",
       "2          502    France  Female   42       8  159660.80              3   \n",
       "3          699    France  Female   39       1       0.00              2   \n",
       "4          850     Spain  Female   43       2  125510.82              1   \n",
       "\n",
       "   HasCrCard  IsActiveMember  EstimatedSalary  \n",
       "0          1               1        101348.88  \n",
       "1          0               1        112542.58  \n",
       "2          1               0        113931.57  \n",
       "3          0               0         93826.63  \n",
       "4          1               1         79084.10  "
      ]
     },
     "execution_count": 5,
     "metadata": {},
     "output_type": "execute_result"
    }
   ],
   "source": [
    "x.head()"
   ]
  },
  {
   "cell_type": "code",
   "execution_count": 6,
   "metadata": {},
   "outputs": [],
   "source": [
    "# Create dummy variables \n",
    "geography = pd.get_dummies(data[\"Geography\"],drop_first=True)\n",
    "gender = pd.get_dummies(data[\"Gender\"],drop_first=True)"
   ]
  },
  {
   "cell_type": "code",
   "execution_count": 7,
   "metadata": {},
   "outputs": [],
   "source": [
    "# dropping the geography and gender columns from our dataset \n",
    "x=x.drop([\"Geography\",\"Gender\"],axis=1)"
   ]
  },
  {
   "cell_type": "code",
   "execution_count": 8,
   "metadata": {},
   "outputs": [],
   "source": [
    "# conactinating the dummy variables with our dataset \n",
    "x=pd.concat([x,geography,gender],axis=1)"
   ]
  },
  {
   "cell_type": "code",
   "execution_count": 9,
   "metadata": {},
   "outputs": [
    {
     "data": {
      "text/html": [
       "<div>\n",
       "<style scoped>\n",
       "    .dataframe tbody tr th:only-of-type {\n",
       "        vertical-align: middle;\n",
       "    }\n",
       "\n",
       "    .dataframe tbody tr th {\n",
       "        vertical-align: top;\n",
       "    }\n",
       "\n",
       "    .dataframe thead th {\n",
       "        text-align: right;\n",
       "    }\n",
       "</style>\n",
       "<table border=\"1\" class=\"dataframe\">\n",
       "  <thead>\n",
       "    <tr style=\"text-align: right;\">\n",
       "      <th></th>\n",
       "      <th>CreditScore</th>\n",
       "      <th>Age</th>\n",
       "      <th>Tenure</th>\n",
       "      <th>Balance</th>\n",
       "      <th>NumOfProducts</th>\n",
       "      <th>HasCrCard</th>\n",
       "      <th>IsActiveMember</th>\n",
       "      <th>EstimatedSalary</th>\n",
       "      <th>Germany</th>\n",
       "      <th>Spain</th>\n",
       "      <th>Male</th>\n",
       "    </tr>\n",
       "  </thead>\n",
       "  <tbody>\n",
       "    <tr>\n",
       "      <th>0</th>\n",
       "      <td>619</td>\n",
       "      <td>42</td>\n",
       "      <td>2</td>\n",
       "      <td>0.00</td>\n",
       "      <td>1</td>\n",
       "      <td>1</td>\n",
       "      <td>1</td>\n",
       "      <td>101348.88</td>\n",
       "      <td>0</td>\n",
       "      <td>0</td>\n",
       "      <td>0</td>\n",
       "    </tr>\n",
       "    <tr>\n",
       "      <th>1</th>\n",
       "      <td>608</td>\n",
       "      <td>41</td>\n",
       "      <td>1</td>\n",
       "      <td>83807.86</td>\n",
       "      <td>1</td>\n",
       "      <td>0</td>\n",
       "      <td>1</td>\n",
       "      <td>112542.58</td>\n",
       "      <td>0</td>\n",
       "      <td>1</td>\n",
       "      <td>0</td>\n",
       "    </tr>\n",
       "    <tr>\n",
       "      <th>2</th>\n",
       "      <td>502</td>\n",
       "      <td>42</td>\n",
       "      <td>8</td>\n",
       "      <td>159660.80</td>\n",
       "      <td>3</td>\n",
       "      <td>1</td>\n",
       "      <td>0</td>\n",
       "      <td>113931.57</td>\n",
       "      <td>0</td>\n",
       "      <td>0</td>\n",
       "      <td>0</td>\n",
       "    </tr>\n",
       "    <tr>\n",
       "      <th>3</th>\n",
       "      <td>699</td>\n",
       "      <td>39</td>\n",
       "      <td>1</td>\n",
       "      <td>0.00</td>\n",
       "      <td>2</td>\n",
       "      <td>0</td>\n",
       "      <td>0</td>\n",
       "      <td>93826.63</td>\n",
       "      <td>0</td>\n",
       "      <td>0</td>\n",
       "      <td>0</td>\n",
       "    </tr>\n",
       "    <tr>\n",
       "      <th>4</th>\n",
       "      <td>850</td>\n",
       "      <td>43</td>\n",
       "      <td>2</td>\n",
       "      <td>125510.82</td>\n",
       "      <td>1</td>\n",
       "      <td>1</td>\n",
       "      <td>1</td>\n",
       "      <td>79084.10</td>\n",
       "      <td>0</td>\n",
       "      <td>1</td>\n",
       "      <td>0</td>\n",
       "    </tr>\n",
       "  </tbody>\n",
       "</table>\n",
       "</div>"
      ],
      "text/plain": [
       "   CreditScore  Age  Tenure    Balance  NumOfProducts  HasCrCard  \\\n",
       "0          619   42       2       0.00              1          1   \n",
       "1          608   41       1   83807.86              1          0   \n",
       "2          502   42       8  159660.80              3          1   \n",
       "3          699   39       1       0.00              2          0   \n",
       "4          850   43       2  125510.82              1          1   \n",
       "\n",
       "   IsActiveMember  EstimatedSalary  Germany  Spain  Male  \n",
       "0               1        101348.88        0      0     0  \n",
       "1               1        112542.58        0      1     0  \n",
       "2               0        113931.57        0      0     0  \n",
       "3               0         93826.63        0      0     0  \n",
       "4               1         79084.10        0      1     0  "
      ]
     },
     "execution_count": 9,
     "metadata": {},
     "output_type": "execute_result"
    }
   ],
   "source": [
    "x.head()"
   ]
  },
  {
   "cell_type": "code",
   "execution_count": 10,
   "metadata": {},
   "outputs": [],
   "source": [
    "# splitting the model into train and test data \n",
    "import sklearn \n",
    "from sklearn.model_selection import train_test_split "
   ]
  },
  {
   "cell_type": "code",
   "execution_count": 11,
   "metadata": {},
   "outputs": [],
   "source": [
    "x_train,x_test,y_train,y_test=train_test_split(x,y,test_size=0.2, random_state=0)"
   ]
  },
  {
   "cell_type": "code",
   "execution_count": 12,
   "metadata": {},
   "outputs": [],
   "source": [
    "# Feature scalling \n",
    "from sklearn.preprocessing import StandardScaler\n",
    "sc=StandardScaler()\n",
    "x_train=sc.fit_transform(x_train)\n",
    "x_test=sc.transform(x_test)"
   ]
  },
  {
   "cell_type": "code",
   "execution_count": 13,
   "metadata": {},
   "outputs": [
    {
     "name": "stderr",
     "output_type": "stream",
     "text": [
      "Using TensorFlow backend.\n"
     ]
    }
   ],
   "source": [
    "# Creating our own ANN \n",
    "import keras \n",
    "from keras.models import Sequential \n",
    "from keras.layers import Dense \n",
    "from keras.layers import LeakyReLU,PReLU,ELU\n",
    "from keras.layers import Dropout \n"
   ]
  },
  {
   "cell_type": "code",
   "execution_count": 14,
   "metadata": {},
   "outputs": [],
   "source": [
    "# initialising ANN \n",
    "classifier = Sequential()\n"
   ]
  },
  {
   "cell_type": "code",
   "execution_count": 15,
   "metadata": {},
   "outputs": [
    {
     "name": "stderr",
     "output_type": "stream",
     "text": [
      "/Users/prashantgpoojara/Desktop/deep-learning/env/lib/python3.7/site-packages/ipykernel_launcher.py:2: UserWarning: Update your `Dense` call to the Keras 2 API: `Dense(activation=\"relu\", input_dim=11, units=6, kernel_initializer=\"he_uniform\")`\n",
      "  \n"
     ]
    }
   ],
   "source": [
    "# adding input layer and the first \n",
    "classifier.add(Dense(output_dim=6,init=\"he_uniform\",activation='relu',input_dim=11))"
   ]
  },
  {
   "cell_type": "code",
   "execution_count": 16,
   "metadata": {},
   "outputs": [
    {
     "name": "stderr",
     "output_type": "stream",
     "text": [
      "/Users/prashantgpoojara/Desktop/deep-learning/env/lib/python3.7/site-packages/ipykernel_launcher.py:2: UserWarning: Update your `Dense` call to the Keras 2 API: `Dense(activation=\"relu\", units=6, kernel_initializer=\"he_uniform\")`\n",
      "  \n"
     ]
    }
   ],
   "source": [
    "#adding second hidden layer \n",
    "classifier.add(Dense(output_dim=6, init=\"he_uniform\", activation=\"relu\")\n",
    "              )"
   ]
  },
  {
   "cell_type": "code",
   "execution_count": 17,
   "metadata": {},
   "outputs": [
    {
     "name": "stderr",
     "output_type": "stream",
     "text": [
      "/Users/prashantgpoojara/Desktop/deep-learning/env/lib/python3.7/site-packages/ipykernel_launcher.py:2: UserWarning: Update your `Dense` call to the Keras 2 API: `Dense(activation=\"sigmoid\", units=1, kernel_initializer=\"glorot_uniform\")`\n",
      "  \n"
     ]
    }
   ],
   "source": [
    "# adding the output layer \n",
    "classifier.add(Dense(output_dim=1, init=\"glorot_uniform\", activation=\"sigmoid\"))"
   ]
  },
  {
   "cell_type": "code",
   "execution_count": 18,
   "metadata": {},
   "outputs": [],
   "source": [
    "#compiling the ANN \n",
    "classifier.compile(optimizer=\"Adamax\",loss=\"binary_crossentropy\", metrics=[\"accuracy\"])\n"
   ]
  },
  {
   "cell_type": "code",
   "execution_count": 19,
   "metadata": {},
   "outputs": [
    {
     "name": "stderr",
     "output_type": "stream",
     "text": [
      "/Users/prashantgpoojara/Desktop/deep-learning/env/lib/python3.7/site-packages/ipykernel_launcher.py:1: UserWarning: The `nb_epoch` argument in `fit` has been renamed `epochs`.\n",
      "  \"\"\"Entry point for launching an IPython kernel.\n"
     ]
    },
    {
     "name": "stdout",
     "output_type": "stream",
     "text": [
      "Train on 5359 samples, validate on 2641 samples\n",
      "Epoch 1/100\n",
      "5359/5359 [==============================] - 3s 593us/step - loss: 0.6764 - accuracy: 0.6576 - val_loss: 0.5262 - val_accuracy: 0.7793\n",
      "Epoch 2/100\n",
      "5359/5359 [==============================] - 2s 374us/step - loss: 0.4944 - accuracy: 0.7918 - val_loss: 0.4751 - val_accuracy: 0.7952\n",
      "Epoch 3/100\n",
      "5359/5359 [==============================] - 2s 378us/step - loss: 0.4613 - accuracy: 0.8024 - val_loss: 0.4575 - val_accuracy: 0.8016\n",
      "Epoch 4/100\n",
      "5359/5359 [==============================] - 2s 377us/step - loss: 0.4461 - accuracy: 0.8089 - val_loss: 0.4487 - val_accuracy: 0.8065\n",
      "Epoch 5/100\n",
      "5359/5359 [==============================] - 2s 373us/step - loss: 0.4379 - accuracy: 0.8121 - val_loss: 0.4433 - val_accuracy: 0.8046\n",
      "Epoch 6/100\n",
      "5359/5359 [==============================] - 2s 439us/step - loss: 0.4310 - accuracy: 0.8156 - val_loss: 0.4402 - val_accuracy: 0.8061\n",
      "Epoch 7/100\n",
      "5359/5359 [==============================] - 3s 487us/step - loss: 0.4266 - accuracy: 0.8155 - val_loss: 0.4377 - val_accuracy: 0.8088\n",
      "Epoch 8/100\n",
      "5359/5359 [==============================] - 2s 459us/step - loss: 0.4232 - accuracy: 0.8209 - val_loss: 0.4358 - val_accuracy: 0.8095\n",
      "Epoch 9/100\n",
      "5359/5359 [==============================] - 3s 472us/step - loss: 0.4202 - accuracy: 0.8203 - val_loss: 0.4345 - val_accuracy: 0.8099\n",
      "Epoch 10/100\n",
      "5359/5359 [==============================] - 2s 426us/step - loss: 0.4181 - accuracy: 0.8246 - val_loss: 0.4334 - val_accuracy: 0.8099\n",
      "Epoch 11/100\n",
      "5359/5359 [==============================] - 2s 386us/step - loss: 0.4165 - accuracy: 0.8266 - val_loss: 0.4322 - val_accuracy: 0.8111\n",
      "Epoch 12/100\n",
      "5359/5359 [==============================] - 2s 378us/step - loss: 0.4151 - accuracy: 0.8276 - val_loss: 0.4312 - val_accuracy: 0.8111\n",
      "Epoch 13/100\n",
      "5359/5359 [==============================] - 2s 373us/step - loss: 0.4139 - accuracy: 0.8268 - val_loss: 0.4300 - val_accuracy: 0.8126\n",
      "Epoch 14/100\n",
      "5359/5359 [==============================] - 2s 373us/step - loss: 0.4127 - accuracy: 0.8296 - val_loss: 0.4290 - val_accuracy: 0.8148\n",
      "Epoch 15/100\n",
      "5359/5359 [==============================] - 2s 374us/step - loss: 0.4116 - accuracy: 0.8296 - val_loss: 0.4280 - val_accuracy: 0.8122\n",
      "Epoch 16/100\n",
      "5359/5359 [==============================] - 2s 403us/step - loss: 0.4106 - accuracy: 0.8302 - val_loss: 0.4271 - val_accuracy: 0.8148\n",
      "Epoch 17/100\n",
      "5359/5359 [==============================] - 2s 410us/step - loss: 0.4099 - accuracy: 0.8315 - val_loss: 0.4265 - val_accuracy: 0.8141\n",
      "Epoch 18/100\n",
      "5359/5359 [==============================] - 2s 374us/step - loss: 0.4091 - accuracy: 0.8294 - val_loss: 0.4254 - val_accuracy: 0.8175\n",
      "Epoch 19/100\n",
      "5359/5359 [==============================] - 2s 375us/step - loss: 0.4082 - accuracy: 0.8317 - val_loss: 0.4248 - val_accuracy: 0.8156\n",
      "Epoch 20/100\n",
      "5359/5359 [==============================] - 2s 373us/step - loss: 0.4074 - accuracy: 0.8319 - val_loss: 0.4238 - val_accuracy: 0.8190\n",
      "Epoch 21/100\n",
      "5359/5359 [==============================] - 2s 376us/step - loss: 0.4066 - accuracy: 0.8319 - val_loss: 0.4232 - val_accuracy: 0.8164\n",
      "Epoch 22/100\n",
      "5359/5359 [==============================] - 2s 374us/step - loss: 0.4058 - accuracy: 0.8330 - val_loss: 0.4219 - val_accuracy: 0.8167\n",
      "Epoch 23/100\n",
      "5359/5359 [==============================] - 2s 384us/step - loss: 0.4045 - accuracy: 0.8339 - val_loss: 0.4209 - val_accuracy: 0.8175\n",
      "Epoch 24/100\n",
      "5359/5359 [==============================] - 2s 375us/step - loss: 0.4034 - accuracy: 0.8339 - val_loss: 0.4194 - val_accuracy: 0.8190\n",
      "Epoch 25/100\n",
      "5359/5359 [==============================] - 2s 377us/step - loss: 0.4021 - accuracy: 0.8349 - val_loss: 0.4177 - val_accuracy: 0.8232\n",
      "Epoch 26/100\n",
      "5359/5359 [==============================] - 2s 376us/step - loss: 0.4002 - accuracy: 0.8349 - val_loss: 0.4165 - val_accuracy: 0.8201\n",
      "Epoch 27/100\n",
      "5359/5359 [==============================] - 2s 376us/step - loss: 0.3985 - accuracy: 0.8356 - val_loss: 0.4137 - val_accuracy: 0.8239\n",
      "Epoch 28/100\n",
      "5359/5359 [==============================] - 2s 449us/step - loss: 0.3956 - accuracy: 0.8378 - val_loss: 0.4104 - val_accuracy: 0.8262\n",
      "Epoch 29/100\n",
      "5359/5359 [==============================] - 2s 437us/step - loss: 0.3921 - accuracy: 0.8405 - val_loss: 0.4072 - val_accuracy: 0.8277\n",
      "Epoch 30/100\n",
      "5359/5359 [==============================] - 2s 403us/step - loss: 0.3880 - accuracy: 0.8423 - val_loss: 0.4026 - val_accuracy: 0.8300\n",
      "Epoch 31/100\n",
      "5359/5359 [==============================] - 2s 375us/step - loss: 0.3835 - accuracy: 0.8470 - val_loss: 0.3982 - val_accuracy: 0.8326\n",
      "Epoch 32/100\n",
      "5359/5359 [==============================] - 2s 378us/step - loss: 0.3783 - accuracy: 0.8489 - val_loss: 0.3941 - val_accuracy: 0.8345\n",
      "Epoch 33/100\n",
      "5359/5359 [==============================] - 2s 379us/step - loss: 0.3739 - accuracy: 0.8515 - val_loss: 0.3889 - val_accuracy: 0.8345\n",
      "Epoch 34/100\n",
      "5359/5359 [==============================] - 2s 383us/step - loss: 0.3688 - accuracy: 0.8520 - val_loss: 0.3841 - val_accuracy: 0.8395\n",
      "Epoch 35/100\n",
      "5359/5359 [==============================] - 2s 376us/step - loss: 0.3641 - accuracy: 0.8552 - val_loss: 0.3803 - val_accuracy: 0.8395\n",
      "Epoch 36/100\n",
      "5359/5359 [==============================] - 2s 374us/step - loss: 0.3598 - accuracy: 0.8558 - val_loss: 0.3777 - val_accuracy: 0.8402\n",
      "Epoch 37/100\n",
      "5359/5359 [==============================] - 2s 377us/step - loss: 0.3564 - accuracy: 0.8574 - val_loss: 0.3742 - val_accuracy: 0.8421\n",
      "Epoch 38/100\n",
      "5359/5359 [==============================] - 2s 378us/step - loss: 0.3534 - accuracy: 0.8576 - val_loss: 0.3716 - val_accuracy: 0.8432\n",
      "Epoch 39/100\n",
      "5359/5359 [==============================] - 2s 376us/step - loss: 0.3511 - accuracy: 0.8578 - val_loss: 0.3699 - val_accuracy: 0.8451\n",
      "Epoch 40/100\n",
      "5359/5359 [==============================] - 2s 377us/step - loss: 0.3486 - accuracy: 0.8595 - val_loss: 0.3687 - val_accuracy: 0.8466\n",
      "Epoch 41/100\n",
      "5359/5359 [==============================] - 2s 374us/step - loss: 0.3474 - accuracy: 0.8589 - val_loss: 0.3672 - val_accuracy: 0.8463\n",
      "Epoch 42/100\n",
      "5359/5359 [==============================] - 2s 376us/step - loss: 0.3461 - accuracy: 0.8602 - val_loss: 0.3665 - val_accuracy: 0.8478\n",
      "Epoch 43/100\n",
      "5359/5359 [==============================] - 2s 380us/step - loss: 0.3452 - accuracy: 0.8604 - val_loss: 0.3660 - val_accuracy: 0.8466\n",
      "Epoch 44/100\n",
      "5359/5359 [==============================] - 2s 376us/step - loss: 0.3440 - accuracy: 0.8606 - val_loss: 0.3648 - val_accuracy: 0.8485\n",
      "Epoch 45/100\n",
      "5359/5359 [==============================] - 2s 374us/step - loss: 0.3431 - accuracy: 0.8600 - val_loss: 0.3645 - val_accuracy: 0.8493\n",
      "Epoch 46/100\n",
      "5359/5359 [==============================] - 2s 375us/step - loss: 0.3424 - accuracy: 0.8610 - val_loss: 0.3653 - val_accuracy: 0.8489\n",
      "Epoch 47/100\n",
      "5359/5359 [==============================] - 2s 378us/step - loss: 0.3420 - accuracy: 0.8597 - val_loss: 0.3640 - val_accuracy: 0.8516\n",
      "Epoch 48/100\n",
      "5359/5359 [==============================] - 2s 377us/step - loss: 0.3412 - accuracy: 0.8604 - val_loss: 0.3641 - val_accuracy: 0.8519\n",
      "Epoch 49/100\n",
      "5359/5359 [==============================] - 2s 376us/step - loss: 0.3409 - accuracy: 0.8597 - val_loss: 0.3646 - val_accuracy: 0.8501\n",
      "Epoch 50/100\n",
      "5359/5359 [==============================] - 2s 377us/step - loss: 0.3404 - accuracy: 0.8600 - val_loss: 0.3641 - val_accuracy: 0.8504\n",
      "Epoch 51/100\n",
      "5359/5359 [==============================] - 2s 377us/step - loss: 0.3402 - accuracy: 0.8610 - val_loss: 0.3637 - val_accuracy: 0.8523\n",
      "Epoch 52/100\n",
      "5359/5359 [==============================] - 2s 376us/step - loss: 0.3399 - accuracy: 0.8619 - val_loss: 0.3641 - val_accuracy: 0.8519\n",
      "Epoch 53/100\n",
      "5359/5359 [==============================] - 2s 384us/step - loss: 0.3396 - accuracy: 0.8623 - val_loss: 0.3640 - val_accuracy: 0.8512\n",
      "Epoch 54/100\n",
      "5359/5359 [==============================] - 2s 377us/step - loss: 0.3397 - accuracy: 0.8617 - val_loss: 0.3639 - val_accuracy: 0.8519\n",
      "Epoch 55/100\n",
      "5359/5359 [==============================] - 2s 377us/step - loss: 0.3390 - accuracy: 0.8602 - val_loss: 0.3638 - val_accuracy: 0.8531\n",
      "Epoch 56/100\n"
     ]
    },
    {
     "name": "stdout",
     "output_type": "stream",
     "text": [
      "5359/5359 [==============================] - 2s 374us/step - loss: 0.3385 - accuracy: 0.8627 - val_loss: 0.3643 - val_accuracy: 0.8501\n",
      "Epoch 57/100\n",
      "5359/5359 [==============================] - 2s 374us/step - loss: 0.3390 - accuracy: 0.8632 - val_loss: 0.3638 - val_accuracy: 0.8535\n",
      "Epoch 58/100\n",
      "5359/5359 [==============================] - 2s 373us/step - loss: 0.3386 - accuracy: 0.8636 - val_loss: 0.3642 - val_accuracy: 0.8523\n",
      "Epoch 59/100\n",
      "5359/5359 [==============================] - 2s 374us/step - loss: 0.3384 - accuracy: 0.8619 - val_loss: 0.3638 - val_accuracy: 0.8523\n",
      "Epoch 60/100\n",
      "5359/5359 [==============================] - 2s 372us/step - loss: 0.3382 - accuracy: 0.8614 - val_loss: 0.3637 - val_accuracy: 0.8527\n",
      "Epoch 61/100\n",
      "5359/5359 [==============================] - 2s 381us/step - loss: 0.3382 - accuracy: 0.8612 - val_loss: 0.3634 - val_accuracy: 0.8542\n",
      "Epoch 62/100\n",
      "5359/5359 [==============================] - 2s 377us/step - loss: 0.3381 - accuracy: 0.8617 - val_loss: 0.3637 - val_accuracy: 0.8542\n",
      "Epoch 63/100\n",
      "5359/5359 [==============================] - 2s 373us/step - loss: 0.3377 - accuracy: 0.8612 - val_loss: 0.3637 - val_accuracy: 0.8538\n",
      "Epoch 64/100\n",
      "5359/5359 [==============================] - 2s 372us/step - loss: 0.3378 - accuracy: 0.8619 - val_loss: 0.3637 - val_accuracy: 0.8531\n",
      "Epoch 65/100\n",
      "5359/5359 [==============================] - 2s 372us/step - loss: 0.3375 - accuracy: 0.8602 - val_loss: 0.3631 - val_accuracy: 0.8546\n",
      "Epoch 66/100\n",
      "5359/5359 [==============================] - 2s 374us/step - loss: 0.3374 - accuracy: 0.8612 - val_loss: 0.3629 - val_accuracy: 0.8542\n",
      "Epoch 67/100\n",
      "5359/5359 [==============================] - 2s 374us/step - loss: 0.3370 - accuracy: 0.8621 - val_loss: 0.3625 - val_accuracy: 0.8538\n",
      "Epoch 68/100\n",
      "5359/5359 [==============================] - 2s 373us/step - loss: 0.3373 - accuracy: 0.8625 - val_loss: 0.3624 - val_accuracy: 0.8546\n",
      "Epoch 69/100\n",
      "5359/5359 [==============================] - 2s 375us/step - loss: 0.3368 - accuracy: 0.8630 - val_loss: 0.3630 - val_accuracy: 0.8546\n",
      "Epoch 70/100\n",
      "5359/5359 [==============================] - 2s 374us/step - loss: 0.3366 - accuracy: 0.8608 - val_loss: 0.3626 - val_accuracy: 0.8554\n",
      "Epoch 71/100\n",
      "5359/5359 [==============================] - 2s 375us/step - loss: 0.3365 - accuracy: 0.8623 - val_loss: 0.3623 - val_accuracy: 0.8535\n",
      "Epoch 72/100\n",
      "5359/5359 [==============================] - 2s 374us/step - loss: 0.3365 - accuracy: 0.8634 - val_loss: 0.3625 - val_accuracy: 0.8538\n",
      "Epoch 73/100\n",
      "5359/5359 [==============================] - 2s 374us/step - loss: 0.3365 - accuracy: 0.8628 - val_loss: 0.3624 - val_accuracy: 0.8542\n",
      "Epoch 74/100\n",
      "5359/5359 [==============================] - 2s 374us/step - loss: 0.3360 - accuracy: 0.8628 - val_loss: 0.3624 - val_accuracy: 0.8546\n",
      "Epoch 75/100\n",
      "5359/5359 [==============================] - 2s 373us/step - loss: 0.3361 - accuracy: 0.8625 - val_loss: 0.3617 - val_accuracy: 0.8550\n",
      "Epoch 76/100\n",
      "5359/5359 [==============================] - 2s 374us/step - loss: 0.3359 - accuracy: 0.8623 - val_loss: 0.3616 - val_accuracy: 0.8542\n",
      "Epoch 77/100\n",
      "5359/5359 [==============================] - 2s 374us/step - loss: 0.3359 - accuracy: 0.8628 - val_loss: 0.3615 - val_accuracy: 0.8546\n",
      "Epoch 78/100\n",
      "5359/5359 [==============================] - 2s 373us/step - loss: 0.3356 - accuracy: 0.8608 - val_loss: 0.3613 - val_accuracy: 0.8542\n",
      "Epoch 79/100\n",
      "5359/5359 [==============================] - 2s 374us/step - loss: 0.3355 - accuracy: 0.8614 - val_loss: 0.3614 - val_accuracy: 0.8546\n",
      "Epoch 80/100\n",
      "5359/5359 [==============================] - 2s 374us/step - loss: 0.3354 - accuracy: 0.8621 - val_loss: 0.3618 - val_accuracy: 0.8538\n",
      "Epoch 81/100\n",
      "5359/5359 [==============================] - 2s 374us/step - loss: 0.3355 - accuracy: 0.8623 - val_loss: 0.3616 - val_accuracy: 0.8542\n",
      "Epoch 82/100\n",
      "5359/5359 [==============================] - 2s 375us/step - loss: 0.3355 - accuracy: 0.8608 - val_loss: 0.3617 - val_accuracy: 0.8557\n",
      "Epoch 83/100\n",
      "5359/5359 [==============================] - 2s 374us/step - loss: 0.3356 - accuracy: 0.8625 - val_loss: 0.3611 - val_accuracy: 0.8542\n",
      "Epoch 84/100\n",
      "5359/5359 [==============================] - 2s 378us/step - loss: 0.3349 - accuracy: 0.8617 - val_loss: 0.3608 - val_accuracy: 0.8538\n",
      "Epoch 85/100\n",
      "5359/5359 [==============================] - 2s 373us/step - loss: 0.3352 - accuracy: 0.8621 - val_loss: 0.3610 - val_accuracy: 0.8535\n",
      "Epoch 86/100\n",
      "5359/5359 [==============================] - 2s 375us/step - loss: 0.3351 - accuracy: 0.8645 - val_loss: 0.3610 - val_accuracy: 0.8550\n",
      "Epoch 87/100\n",
      "5359/5359 [==============================] - 2s 375us/step - loss: 0.3349 - accuracy: 0.8617 - val_loss: 0.3606 - val_accuracy: 0.8542\n",
      "Epoch 88/100\n",
      "5359/5359 [==============================] - 2s 372us/step - loss: 0.3351 - accuracy: 0.8632 - val_loss: 0.3607 - val_accuracy: 0.8538\n",
      "Epoch 89/100\n",
      "5359/5359 [==============================] - 2s 376us/step - loss: 0.3350 - accuracy: 0.8627 - val_loss: 0.3603 - val_accuracy: 0.8550\n",
      "Epoch 90/100\n",
      "5359/5359 [==============================] - 2s 377us/step - loss: 0.3349 - accuracy: 0.8630 - val_loss: 0.3608 - val_accuracy: 0.8531\n",
      "Epoch 91/100\n",
      "5359/5359 [==============================] - 2s 376us/step - loss: 0.3346 - accuracy: 0.8628 - val_loss: 0.3622 - val_accuracy: 0.8531\n",
      "Epoch 92/100\n",
      "5359/5359 [==============================] - 2s 376us/step - loss: 0.3348 - accuracy: 0.8627 - val_loss: 0.3606 - val_accuracy: 0.8546\n",
      "Epoch 93/100\n",
      "5359/5359 [==============================] - 2s 377us/step - loss: 0.3346 - accuracy: 0.8619 - val_loss: 0.3611 - val_accuracy: 0.8535\n",
      "Epoch 94/100\n",
      "5359/5359 [==============================] - 2s 374us/step - loss: 0.3347 - accuracy: 0.8627 - val_loss: 0.3604 - val_accuracy: 0.8538\n",
      "Epoch 95/100\n",
      "5359/5359 [==============================] - 2s 375us/step - loss: 0.3345 - accuracy: 0.8627 - val_loss: 0.3613 - val_accuracy: 0.8531\n",
      "Epoch 96/100\n",
      "5359/5359 [==============================] - 2s 376us/step - loss: 0.3342 - accuracy: 0.8625 - val_loss: 0.3613 - val_accuracy: 0.8535\n",
      "Epoch 97/100\n",
      "5359/5359 [==============================] - 2s 375us/step - loss: 0.3345 - accuracy: 0.8634 - val_loss: 0.3599 - val_accuracy: 0.8538\n",
      "Epoch 98/100\n",
      "5359/5359 [==============================] - 2s 376us/step - loss: 0.3345 - accuracy: 0.8632 - val_loss: 0.3603 - val_accuracy: 0.8542\n",
      "Epoch 99/100\n",
      "5359/5359 [==============================] - 2s 378us/step - loss: 0.3344 - accuracy: 0.8640 - val_loss: 0.3605 - val_accuracy: 0.8519\n",
      "Epoch 100/100\n",
      "5359/5359 [==============================] - 2s 377us/step - loss: 0.3342 - accuracy: 0.8638 - val_loss: 0.3617 - val_accuracy: 0.8531\n"
     ]
    }
   ],
   "source": [
    "model_history=classifier.fit(x_train,y_train,validation_split=0.33,batch_size=10,nb_epoch=100)"
   ]
  },
  {
   "cell_type": "code",
   "execution_count": 20,
   "metadata": {},
   "outputs": [
    {
     "name": "stdout",
     "output_type": "stream",
     "text": [
      "dict_keys(['val_loss', 'val_accuracy', 'loss', 'accuracy'])\n"
     ]
    }
   ],
   "source": [
    "# list all the data in the history \n",
    "print(model_history.history.keys())"
   ]
  },
  {
   "cell_type": "code",
   "execution_count": 21,
   "metadata": {},
   "outputs": [
    {
     "data": {
      "image/png": "[encoded data removed]",
      "text/plain": [
       "<Figure size 432x288 with 1 Axes>"
      ]
     },
     "metadata": {
      "needs_background": "light"
     },
     "output_type": "display_data"
    }
   ],
   "source": [
    "# summerize history for accuracy \n",
    "plt.plot(model_history.history['accuracy'])\n",
    "plt.plot(model_history.history['val_accuracy'])\n",
    "plt.title('model accuracy')\n",
    "plt.ylabel('accuracy')\n",
    "plt.xlabel('epoch')\n",
    "plt.legend(['train', 'test'], loc='upper left')\n",
    "plt.show()\n"
   ]
  },
  {
   "cell_type": "code",
   "execution_count": 22,
   "metadata": {},
   "outputs": [
    {
     "data": {
      "image/png": "[encoded data removed]",
      "text/plain": [
       "<Figure size 432x288 with 1 Axes>"
      ]
     },
     "metadata": {
      "needs_background": "light"
     },
     "output_type": "display_data"
    }
   ],
   "source": [
    "# summerize history for loss \n",
    "plt.plot(model_history.history['loss'])\n",
    "plt.plot(model_history.history['val_loss'])\n",
    "plt.title('model loss')\n",
    "plt.ylabel('loss')\n",
    "plt.xlabel('epoch')\n",
    "plt.legend(['train', 'test'], loc='upper left')\n",
    "plt.show()"
   ]
  },
  {
   "cell_type": "code",
   "execution_count": 23,
   "metadata": {},
   "outputs": [],
   "source": [
    "# Predicting the Test set results\n",
    "y_pred = classifier.predict(x_test)\n",
    "y_pred = (y_pred > 0.5)"
   ]
  },
  {
   "cell_type": "code",
   "execution_count": 24,
   "metadata": {},
   "outputs": [],
   "source": [
    "# Making the Confusion Matrix\n",
    "from sklearn.metrics import confusion_matrix\n",
    "cm = confusion_matrix(y_test, y_pred)\n"
   ]
  },
  {
   "cell_type": "code",
   "execution_count": 25,
   "metadata": {},
   "outputs": [
    {
     "data": {
      "text/plain": [
       "array([[1502,   93],\n",
       "       [ 198,  207]])"
      ]
     },
     "execution_count": 25,
     "metadata": {},
     "output_type": "execute_result"
    }
   ],
   "source": [
    "cm"
   ]
  },
  {
   "cell_type": "code",
   "execution_count": 26,
   "metadata": {},
   "outputs": [],
   "source": [
    "# Calculate the Accuracy\n",
    "from sklearn.metrics import accuracy_score\n",
    "score=accuracy_score(y_pred,y_test)\n"
   ]
  },
  {
   "cell_type": "code",
   "execution_count": 27,
   "metadata": {},
   "outputs": [
    {
     "data": {
      "text/plain": [
       "0.8545"
      ]
     },
     "execution_count": 27,
     "metadata": {},
     "output_type": "execute_result"
    }
   ],
   "source": [
    "score"
   ]
  },
  {
   "cell_type": "markdown",
   "metadata": {},
   "source": [
    "## Hyperparameter tuning using GridSearchCV"
   ]
  },
  {
   "cell_type": "code",
   "execution_count": 34,
   "metadata": {},
   "outputs": [],
   "source": [
    "from keras.wrappers.scikit_learn import KerasClassifier\n",
    "from sklearn.model_selection import GridSearchCV\n"
   ]
  },
  {
   "cell_type": "code",
   "execution_count": 35,
   "metadata": {},
   "outputs": [],
   "source": [
    "from keras.models import Sequential\n",
    "from keras.layers import Dense, Activation, Embedding, Flatten, LeakyReLU, BatchNormalization, Dropout\n",
    "from keras.activations import relu, sigmoid\n",
    " "
   ]
  },
  {
   "cell_type": "code",
   "execution_count": 36,
   "metadata": {},
   "outputs": [],
   "source": [
    "def create_model(layers, activation):\n",
    "    model = Sequential()\n",
    "    for i, nodes in enumerate(layers):\n",
    "        if i==0:\n",
    "            model.add(Dense(nodes,input_dim=x_train.shape[1]))\n",
    "            model.add(Activation(activation))\n",
    "            model.add(Dropout(0.3))\n",
    "        else:\n",
    "            model.add(Dense(nodes))\n",
    "            model.add(Activation(activation))\n",
    "            model.add(Dropout(0.3))\n",
    "            \n",
    "    model.add(Dense(units = 1, kernel_initializer= 'glorot_uniform', activation = 'sigmoid')) # Note: no activation beyond this point\n",
    "    \n",
    "    model.compile(optimizer='adam', loss='binary_crossentropy',metrics=['accuracy'])\n",
    "    return model\n",
    "    "
   ]
  },
  {
   "cell_type": "code",
   "execution_count": 37,
   "metadata": {},
   "outputs": [],
   "source": [
    "model = KerasClassifier(build_fn=create_model, verbose=0)"
   ]
  },
  {
   "cell_type": "code",
   "execution_count": 38,
   "metadata": {},
   "outputs": [],
   "source": [
    "layers = [[20], [40, 20], [45, 30, 15]]\n",
    "activations = ['sigmoid', 'relu']\n",
    "param_grid = dict(layers=layers, activation=activations, batch_size = [128, 256], epochs=[30])\n",
    "grid = GridSearchCV(estimator=model, param_grid=param_grid,cv=5)\n"
   ]
  },
  {
   "cell_type": "code",
   "execution_count": 39,
   "metadata": {},
   "outputs": [
    {
     "ename": "RuntimeError",
     "evalue": "Cannot clone object <keras.wrappers.scikit_learn.KerasClassifier object at 0x1a77176590>, as the constructor either does not set or modifies parameter layers",
     "output_type": "error",
     "traceback": [
      "\u001b[0;31m---------------------------------------------------------------------------\u001b[0m",
      "\u001b[0;31mRuntimeError\u001b[0m                              Traceback (most recent call last)",
      "\u001b[0;32m<ipython-input-39-8e26078e30c6>\u001b[0m in \u001b[0;36m<module>\u001b[0;34m\u001b[0m\n\u001b[0;32m----> 1\u001b[0;31m \u001b[0mgrid_result\u001b[0m\u001b[0;34m=\u001b[0m\u001b[0mgrid\u001b[0m\u001b[0;34m.\u001b[0m\u001b[0mfit\u001b[0m\u001b[0;34m(\u001b[0m\u001b[0mx_train\u001b[0m\u001b[0;34m,\u001b[0m\u001b[0my_train\u001b[0m\u001b[0;34m)\u001b[0m\u001b[0;34m\u001b[0m\u001b[0;34m\u001b[0m\u001b[0m\n\u001b[0m",
      "\u001b[0;32m~/Desktop/deep-learning/env/lib/python3.7/site-packages/sklearn/utils/validation.py\u001b[0m in \u001b[0;36minner_f\u001b[0;34m(*args, **kwargs)\u001b[0m\n\u001b[1;32m     71\u001b[0m                           FutureWarning)\n\u001b[1;32m     72\u001b[0m         \u001b[0mkwargs\u001b[0m\u001b[0;34m.\u001b[0m\u001b[0mupdate\u001b[0m\u001b[0;34m(\u001b[0m\u001b[0;34m{\u001b[0m\u001b[0mk\u001b[0m\u001b[0;34m:\u001b[0m \u001b[0marg\u001b[0m \u001b[0;32mfor\u001b[0m \u001b[0mk\u001b[0m\u001b[0;34m,\u001b[0m \u001b[0marg\u001b[0m \u001b[0;32min\u001b[0m \u001b[0mzip\u001b[0m\u001b[0;34m(\u001b[0m\u001b[0msig\u001b[0m\u001b[0;34m.\u001b[0m\u001b[0mparameters\u001b[0m\u001b[0;34m,\u001b[0m \u001b[0margs\u001b[0m\u001b[0;34m)\u001b[0m\u001b[0;34m}\u001b[0m\u001b[0;34m)\u001b[0m\u001b[0;34m\u001b[0m\u001b[0;34m\u001b[0m\u001b[0m\n\u001b[0;32m---> 73\u001b[0;31m         \u001b[0;32mreturn\u001b[0m \u001b[0mf\u001b[0m\u001b[0;34m(\u001b[0m\u001b[0;34m**\u001b[0m\u001b[0mkwargs\u001b[0m\u001b[0;34m)\u001b[0m\u001b[0;34m\u001b[0m\u001b[0;34m\u001b[0m\u001b[0m\n\u001b[0m\u001b[1;32m     74\u001b[0m     \u001b[0;32mreturn\u001b[0m \u001b[0minner_f\u001b[0m\u001b[0;34m\u001b[0m\u001b[0;34m\u001b[0m\u001b[0m\n\u001b[1;32m     75\u001b[0m \u001b[0;34m\u001b[0m\u001b[0m\n",
      "\u001b[0;32m~/Desktop/deep-learning/env/lib/python3.7/site-packages/sklearn/model_selection/_search.py\u001b[0m in \u001b[0;36mfit\u001b[0;34m(self, X, y, groups, **fit_params)\u001b[0m\n\u001b[1;32m    760\u001b[0m             \u001b[0;31m# of the params are estimators as well.\u001b[0m\u001b[0;34m\u001b[0m\u001b[0;34m\u001b[0m\u001b[0;34m\u001b[0m\u001b[0m\n\u001b[1;32m    761\u001b[0m             self.best_estimator_ = clone(clone(base_estimator).set_params(\n\u001b[0;32m--> 762\u001b[0;31m                 **self.best_params_))\n\u001b[0m\u001b[1;32m    763\u001b[0m             \u001b[0mrefit_start_time\u001b[0m \u001b[0;34m=\u001b[0m \u001b[0mtime\u001b[0m\u001b[0;34m.\u001b[0m\u001b[0mtime\u001b[0m\u001b[0;34m(\u001b[0m\u001b[0;34m)\u001b[0m\u001b[0;34m\u001b[0m\u001b[0;34m\u001b[0m\u001b[0m\n\u001b[1;32m    764\u001b[0m             \u001b[0;32mif\u001b[0m \u001b[0my\u001b[0m \u001b[0;32mis\u001b[0m \u001b[0;32mnot\u001b[0m \u001b[0;32mNone\u001b[0m\u001b[0;34m:\u001b[0m\u001b[0;34m\u001b[0m\u001b[0;34m\u001b[0m\u001b[0m\n",
      "\u001b[0;32m~/Desktop/deep-learning/env/lib/python3.7/site-packages/sklearn/utils/validation.py\u001b[0m in \u001b[0;36minner_f\u001b[0;34m(*args, **kwargs)\u001b[0m\n\u001b[1;32m     71\u001b[0m                           FutureWarning)\n\u001b[1;32m     72\u001b[0m         \u001b[0mkwargs\u001b[0m\u001b[0;34m.\u001b[0m\u001b[0mupdate\u001b[0m\u001b[0;34m(\u001b[0m\u001b[0;34m{\u001b[0m\u001b[0mk\u001b[0m\u001b[0;34m:\u001b[0m \u001b[0marg\u001b[0m \u001b[0;32mfor\u001b[0m \u001b[0mk\u001b[0m\u001b[0;34m,\u001b[0m \u001b[0marg\u001b[0m \u001b[0;32min\u001b[0m \u001b[0mzip\u001b[0m\u001b[0;34m(\u001b[0m\u001b[0msig\u001b[0m\u001b[0;34m.\u001b[0m\u001b[0mparameters\u001b[0m\u001b[0;34m,\u001b[0m \u001b[0margs\u001b[0m\u001b[0;34m)\u001b[0m\u001b[0;34m}\u001b[0m\u001b[0;34m)\u001b[0m\u001b[0;34m\u001b[0m\u001b[0;34m\u001b[0m\u001b[0m\n\u001b[0;32m---> 73\u001b[0;31m         \u001b[0;32mreturn\u001b[0m \u001b[0mf\u001b[0m\u001b[0;34m(\u001b[0m\u001b[0;34m**\u001b[0m\u001b[0mkwargs\u001b[0m\u001b[0;34m)\u001b[0m\u001b[0;34m\u001b[0m\u001b[0;34m\u001b[0m\u001b[0m\n\u001b[0m\u001b[1;32m     74\u001b[0m     \u001b[0;32mreturn\u001b[0m \u001b[0minner_f\u001b[0m\u001b[0;34m\u001b[0m\u001b[0;34m\u001b[0m\u001b[0m\n\u001b[1;32m     75\u001b[0m \u001b[0;34m\u001b[0m\u001b[0m\n",
      "\u001b[0;32m~/Desktop/deep-learning/env/lib/python3.7/site-packages/sklearn/base.py\u001b[0m in \u001b[0;36mclone\u001b[0;34m(estimator, safe)\u001b[0m\n\u001b[1;32m     96\u001b[0m             raise RuntimeError('Cannot clone object %s, as the constructor '\n\u001b[1;32m     97\u001b[0m                                \u001b[0;34m'either does not set or modifies parameter %s'\u001b[0m \u001b[0;34m%\u001b[0m\u001b[0;34m\u001b[0m\u001b[0;34m\u001b[0m\u001b[0m\n\u001b[0;32m---> 98\u001b[0;31m                                (estimator, name))\n\u001b[0m\u001b[1;32m     99\u001b[0m     \u001b[0;32mreturn\u001b[0m \u001b[0mnew_object\u001b[0m\u001b[0;34m\u001b[0m\u001b[0;34m\u001b[0m\u001b[0m\n\u001b[1;32m    100\u001b[0m \u001b[0;34m\u001b[0m\u001b[0m\n",
      "\u001b[0;31mRuntimeError\u001b[0m: Cannot clone object <keras.wrappers.scikit_learn.KerasClassifier object at 0x1a77176590>, as the constructor either does not set or modifies parameter layers"
     ]
    }
   ],
   "source": [
    "grid_result=grid.fit(x_train,y_train)"
   ]
  },
  {
   "cell_type": "code",
   "execution_count": null,
   "metadata": {},
   "outputs": [],
   "source": [
    "grid_result.best_score_,grid_result.best_params_"
   ]
  }
 ],
 "metadata": {
  "kernelspec": {
   "display_name": "Python 3",
   "language": "python",
   "name": "python3"
  },
  "language_info": {
   "codemirror_mode": {
    "name": "ipython",
    "version": 3
   },
   "file_extension": ".py",
   "mimetype": "text/x-python",
   "name": "python",
   "nbconvert_exporter": "python",
   "pygments_lexer": "ipython3",
   "version": "3.7.7"
  }
 },
 "nbformat": 4,
 "nbformat_minor": 4
}
